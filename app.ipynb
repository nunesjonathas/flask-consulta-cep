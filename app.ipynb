{
 "cells": [
  {
   "cell_type": "code",
   "execution_count": 1,
   "source": [
    "import requests as r"
   ],
   "outputs": [],
   "metadata": {}
  },
  {
   "cell_type": "code",
   "execution_count": 6,
   "source": [
    "A = r.request('POST', 'https://correios.contrateumdev.com.br/api/rastreio', json={\r\n",
    "    \"code\": \"LB256701129HK\",\r\n",
    "    \"type\": \"LS\"\r\n",
    "})"
   ],
   "outputs": [],
   "metadata": {}
  },
  {
   "cell_type": "code",
   "execution_count": 9,
   "source": [
    "A.json()"
   ],
   "outputs": [
    {
     "output_type": "execute_result",
     "data": {
      "text/plain": [
       "{'objeto': [{'categoria': 'ERRO: Objeto não encontrado na base de dados dos Correios.',\n",
       "   'numero': 'LB256701129HK'}],\n",
       " 'pesquisa': 'Lista de Objetos',\n",
       " 'quantidade': '1',\n",
       " 'resultado': 'Todos os eventos',\n",
       " 'versao': '3.0'}"
      ]
     },
     "metadata": {},
     "execution_count": 9
    }
   ],
   "metadata": {}
  },
  {
   "cell_type": "code",
   "execution_count": 32,
   "source": [
    "A.json()['resultado']"
   ],
   "outputs": [
    {
     "output_type": "execute_result",
     "data": {
      "text/plain": [
       "'Todos os eventos'"
      ]
     },
     "metadata": {},
     "execution_count": 32
    }
   ],
   "metadata": {}
  },
  {
   "cell_type": "code",
   "execution_count": 30,
   "source": [
    "dictionary_unique = {\"a\": \"alpha\", \"o\": \"omega\", \"g\": \"gamma\", \"g\": \"beta\"}\r\n",
    "dictionary_unique['a']"
   ],
   "outputs": [
    {
     "output_type": "execute_result",
     "data": {
      "text/plain": [
       "'alpha'"
      ]
     },
     "metadata": {},
     "execution_count": 30
    }
   ],
   "metadata": {}
  }
 ],
 "metadata": {
  "orig_nbformat": 4,
  "language_info": {
   "name": "python",
   "version": "3.9.6",
   "mimetype": "text/x-python",
   "codemirror_mode": {
    "name": "ipython",
    "version": 3
   },
   "pygments_lexer": "ipython3",
   "nbconvert_exporter": "python",
   "file_extension": ".py"
  },
  "kernelspec": {
   "name": "python3",
   "display_name": "Python 3.9.6 64-bit"
  },
  "interpreter": {
   "hash": "58442b4599de9b5c891b86179c801e3749a3233c87f1f9b8bf7962862138234f"
  }
 },
 "nbformat": 4,
 "nbformat_minor": 2
}